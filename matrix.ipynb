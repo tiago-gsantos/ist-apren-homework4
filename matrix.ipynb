{
 "cells": [
  {
   "cell_type": "markdown",
   "metadata": {},
   "source": [
    "# Aprendizagem - Homework IV\n",
    "### II. Programming - Grupo99\n",
    "(ist1106059, ist1106329)"
   ]
  },
  {
   "cell_type": "code",
   "execution_count": 2,
   "metadata": {},
   "outputs": [
    {
     "name": "stdout",
     "output_type": "stream",
     "text": [
      "N(x|u1, cov1) = 0.035964048212141705\n",
      "\n",
      "N(x|u2, cov2) = 0.010769639650924315\n",
      "\n",
      "\n",
      "posterior(k=1|x) = 0.017982024106070853\n",
      "\n",
      "posterior(k=2|x) = 0.005384819825462158\n"
     ]
    }
   ],
   "source": [
    "import numpy as np\n",
    "from numpy import transpose as T\n",
    "from numpy.linalg import inv\n",
    "from math import exp, pi, sqrt\n",
    "\n",
    "# DADOS\n",
    "u1 = np.array([[2], [-1]])\n",
    "cov1 = np.array([[4,1],[1,4]])\n",
    "det1 = 15\n",
    "\n",
    "pi1 = 0.5\n",
    "\n",
    "u2 = np.array([[1], [1]])\n",
    "cov2 = np.array([[2, 0],[0, 2]])\n",
    "det2 = 4\n",
    "\n",
    "pi2 = 0.5\n",
    "\n",
    "# OBSERVAÇÃO\n",
    "x = np.array([[3], [-1]])\n",
    "\n",
    "exp1 = ((-1/2) * (T(x-u1) @ inv(cov1) @ (x-u1))).item()\n",
    "exp2 = ((-1/2) * (T(x-u2) @ inv(cov2) @ (x-u2))).item()\n",
    "N1 = exp(exp1) / ((2*pi) * sqrt(det1))\n",
    "N2 = exp(exp2) / ((2*pi) * sqrt(det2))\n",
    "\n",
    "print(f\"N(x|u1, cov1) = {N1}\")\n",
    "print()\n",
    "print(f\"N(x|u2, cov2) = {N2}\")\n",
    "print()\n",
    "print()\n",
    "print(f\"posterior(k=1|x) = {N1*pi1}\")\n",
    "print()\n",
    "print(f\"posterior(k=2|x) = {N2*pi2}\")\n"
   ]
  },
  {
   "cell_type": "code",
   "execution_count": 22,
   "metadata": {},
   "outputs": [
    {
     "name": "stdout",
     "output_type": "stream",
     "text": [
      "[[1.454436 0.665712]\n",
      " [0.665712 0.304704]]\n"
     ]
    }
   ],
   "source": [
    "x =np.array([[1],[0]])\n",
    "u1 = np.array([[2.206],[0.552]])\n",
    "print((x-u1) @ T(x-u1))"
   ]
  },
  {
   "cell_type": "code",
   "execution_count": null,
   "metadata": {},
   "outputs": [],
   "source": []
  }
 ],
 "metadata": {
  "kernelspec": {
   "display_name": "Python 3",
   "language": "python",
   "name": "python3"
  },
  "language_info": {
   "codemirror_mode": {
    "name": "ipython",
    "version": 3
   },
   "file_extension": ".py",
   "mimetype": "text/x-python",
   "name": "python",
   "nbconvert_exporter": "python",
   "pygments_lexer": "ipython3",
   "version": "3.10.12"
  }
 },
 "nbformat": 4,
 "nbformat_minor": 2
}
